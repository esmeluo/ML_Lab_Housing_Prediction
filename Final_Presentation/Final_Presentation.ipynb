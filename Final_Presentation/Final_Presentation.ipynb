{
 "cells": [
  {
   "cell_type": "markdown",
   "metadata": {
    "slideshow": {
     "slide_type": "slide"
    }
   },
   "source": [
    "# Real Estate Sales Pricing Prediction\n",
    "\n",
    "Litter Box\n",
    "------\n",
    "* __Ruizhe (Jack) Dong__\n",
    "* __Xu Liu__\n",
    "* __Esme Luo__"
   ]
  },
  {
   "cell_type": "markdown",
   "metadata": {
    "slideshow": {
     "slide_type": "slide"
    }
   },
   "source": [
    "Are size, neiborghood the only key drivers of real estate sale prices? What's Missing?\n",
    "----------\n",
    "\n",
    "#### Using the Ames Housing dataset which is an expanded and modernized version of the often cited Boston Housing dataset, we are tempted to address the question mentioned above.\n"
   ]
  },
  {
   "cell_type": "markdown",
   "metadata": {
    "slideshow": {
     "slide_type": "slide"
    }
   },
   "source": [
    "Data Set and Background - Location of Sales\n",
    "---------\n",
    "\n",
    "<img src=\"../Graphs/US_Iowa_map.png\" style=\"width: 800px;\"/>"
   ]
  },
  {
   "cell_type": "markdown",
   "metadata": {
    "slideshow": {
     "slide_type": "slide"
    }
   },
   "source": [
    "Data Set and Background \n",
    "--------\n",
    "\n",
    "* __Data Sourced in 2009__\n",
    "* __Range of Sale Price: \\\\$34,900 to \\\\$755,000__\n",
    "* __36 Numerical Features__\n",
    "* __43 Categorical Features__\n"
   ]
  },
  {
   "cell_type": "markdown",
   "metadata": {
    "slideshow": {
     "slide_type": "slide"
    }
   },
   "source": [
    "Challenges\n",
    "--------\n",
    "#### 1. Too many features, better emphasis on the features that's important to improve accuracy.\n"
   ]
  },
  {
   "cell_type": "markdown",
   "metadata": {
    "slideshow": {
     "slide_type": "slide"
    }
   },
   "source": [
    "Challenges\n",
    "--------\n",
    "\n",
    "#### 2. Multicolinearity: \n",
    "\n",
    "<img src=\"../Graphs/Multi.png\" style=\"width: 500px;\"/>"
   ]
  },
  {
   "attachments": {
    "Null.png": {
     "image/png": "[encoded data removed]"
    }
   },
   "cell_type": "markdown",
   "metadata": {
    "slideshow": {
     "slide_type": "slide"
    }
   },
   "source": [
    "Data Processing\n",
    "---------\n",
    "\n",
    "* __Excluding features with more than 10% missing values__\n",
    "![Null.png](attachment:Null.png)\n",
    "\n",
    "* __Excluding categorical features with too many classes to avoid overfitting__\n",
    "\n"
   ]
  },
  {
   "cell_type": "markdown",
   "metadata": {
    "slideshow": {
     "slide_type": "slide"
    }
   },
   "source": [
    "Data Processing - Log Transformation of Target\n",
    "---------\n",
    "* __Sale Price__\n",
    "<img src=\"../Graphs/y.png\" style=\"width: 300px;\"/>\n",
    "* __log(Sale Price)__\n",
    "<img src=\"../Graphs/logy.png\" style=\"width: 300px;\"/>"
   ]
  },
  {
   "cell_type": "markdown",
   "metadata": {
    "slideshow": {
     "slide_type": "slide"
    }
   },
   "source": [
    "Pipeline\n",
    "------\n",
    "\n",
    "* __Numerical:__ impute with median\n",
    "* __Categorical:__ impute with most common / one hot encoding."
   ]
  },
  {
   "cell_type": "markdown",
   "metadata": {
    "slideshow": {
     "slide_type": "slide"
    }
   },
   "source": [
    "Feature Selection\n",
    "---------\n",
    "\n",
    "* __Naive selection__ - selection includes squarefeet, neiborhood and housestyle, year built based on intuition.\n",
    "* __Full Model__ - all features included.\n",
    "* __Reduced Model__ - feature removed based on permutation importance score.\n",
    "\n"
   ]
  },
  {
   "cell_type": "markdown",
   "metadata": {
    "slideshow": {
     "slide_type": "slide"
    }
   },
   "source": [
    "Modelling Approach\n",
    "--------\n",
    "\n",
    "* __Linear Regression (Lasso)__\n",
    "* __Random Forest Regressor__\n",
    "* __Graient Boosting Regressor__"
   ]
  },
  {
   "cell_type": "markdown",
   "metadata": {
    "slideshow": {
     "slide_type": "slide"
    }
   },
   "source": [
    "Model Evaluation Preliminary Results (Naive Selection):\n",
    "--------\n",
    "<img src=\"../Graphs/Naive2.png\" style=\"width: 800px;\"/>\n",
    "\n",
    "\n"
   ]
  },
  {
   "cell_type": "markdown",
   "metadata": {
    "slideshow": {
     "slide_type": "slide"
    }
   },
   "source": [
    "Model Evaluation Preliminary Results (Full Model):\n",
    "--------\n",
    "\n",
    "<img src=\"../Graphs/Full.png\" style=\"width: 800px;\"/>\n"
   ]
  },
  {
   "cell_type": "markdown",
   "metadata": {
    "slideshow": {
     "slide_type": "slide"
    }
   },
   "source": [
    "Permutation Importance\n",
    "-------\n",
    "\n",
    "* __Most Significant Features__\n",
    "<img src=\"../Graphs/important features.png\" style=\"width: 500px;\"/>\n",
    "\n",
    "\n"
   ]
  },
  {
   "cell_type": "markdown",
   "metadata": {
    "slideshow": {
     "slide_type": "slide"
    }
   },
   "source": [
    "Permutation Importance\n",
    "-------\n",
    "\n",
    "* __Least Significant__\n",
    "<img src=\"../Graphs/unimportant_features.png\" style=\"width: 500px;\"/>\n",
    "\n"
   ]
  },
  {
   "cell_type": "markdown",
   "metadata": {
    "slideshow": {
     "slide_type": "slide"
    }
   },
   "source": [
    "Model Evaluation Preliminary Results (Reduced Model):\n",
    "--------\n",
    "\n",
    "<img src=\"../Graphs/Reduced.png\" style=\"width: 800px;\"/>"
   ]
  },
  {
   "cell_type": "markdown",
   "metadata": {
    "slideshow": {
     "slide_type": "slide"
    }
   },
   "source": [
    "Limitations\n",
    "----------\n",
    "#### 1. Not suited for broad applications, data is collected in one specific state.\n",
    "\n",
    "#### 2. Macros such as inflation, impact on the larger economic scale is difficult to guage and be taken into account in the model."
   ]
  },
  {
   "cell_type": "markdown",
   "metadata": {
    "slideshow": {
     "slide_type": "slide"
    }
   },
   "source": [
    "Future Work\n",
    "-----------\n",
    "\n",
    "#### 1. Hyperparameter fine-tuning\n",
    "#### 2. Further investigation in feature importance of categorical variable (Label Encoding, One hot encoding, Drop subset)\n",
    "#### 3. Dimension reduction and feature elimination for precision\n"
   ]
  },
  {
   "cell_type": "markdown",
   "metadata": {
    "slideshow": {
     "slide_type": "slide"
    }
   },
   "source": [
    "# THANK YOU!!\n",
    "\n",
    "<img src=\"../Graphs/thankyou.jpeg\" style=\"width: 800px;\"/>\n"
   ]
  },
  {
   "cell_type": "code",
   "execution_count": null,
   "metadata": {
    "slideshow": {
     "slide_type": "slide"
    }
   },
   "outputs": [],
   "source": []
  },
  {
   "cell_type": "markdown",
   "metadata": {
    "slideshow": {
     "slide_type": "skip"
    }
   },
   "source": [
    "EDA\n",
    "---------\n",
    "Graphs to be included placeholders (challenges to address in challenges)\n",
    "\n",
    "* \n"
   ]
  },
  {
   "cell_type": "markdown",
   "metadata": {
    "slideshow": {
     "slide_type": "skip"
    }
   },
   "source": [
    "Modelling Approach\n",
    "--------\n",
    "1. Linear Regression Lasso\n",
    "2. Random Forest Regressor\n",
    "3. Graient Boosting Regressor"
   ]
  },
  {
   "cell_type": "markdown",
   "metadata": {
    "slideshow": {
     "slide_type": "skip"
    }
   },
   "source": [
    "Data Cleaning and Pipeline\n",
    "------------\n",
    "\n",
    "1. Numerical Data\n",
    "\n",
    "2. Categorical Data"
   ]
  },
  {
   "cell_type": "markdown",
   "metadata": {
    "slideshow": {
     "slide_type": "skip"
    }
   },
   "source": [
    "Load Data\n",
    "-----"
   ]
  },
  {
   "cell_type": "code",
   "execution_count": 2,
   "metadata": {
    "slideshow": {
     "slide_type": "skip"
    }
   },
   "outputs": [],
   "source": [
    "import pandas as pd\n",
    "from sklearn.experimental import enable_iterative_imputer\n",
    "from sklearn import impute\n",
    "from sklearn import preprocessing\n",
    "from sklearn.pipeline import Pipeline\n",
    "from sklearn import compose\n",
    "from sklearn import linear_model\n",
    "from sklearn.preprocessing import StandardScaler\n",
    "from sklearn.metrics import median_absolute_error\n",
    "from sklearn import linear_model\n",
    "from sklearn.ensemble import GradientBoostingRegressor\n",
    "from sklearn.ensemble import RandomForestRegressor\n",
    "\n",
    "\n",
    "import warnings\n",
    "warnings.filterwarnings(\"ignore\", category=FutureWarning)\n",
    "\n",
    "\n",
    "import warnings\n",
    "warnings.filterwarnings(\"ignore\")\n",
    "\n",
    "data = pd.read_csv(\"Data/train.csv\")\n",
    "\n",
    "y = data.SalePrice\n",
    "X = data.drop(['SalePrice'], axis=1)\n"
   ]
  },
  {
   "cell_type": "markdown",
   "metadata": {
    "slideshow": {
     "slide_type": "skip"
    }
   },
   "source": [
    "Fit scikit-learn model\n",
    "----"
   ]
  },
  {
   "cell_type": "code",
   "execution_count": 3,
   "metadata": {
    "slideshow": {
     "slide_type": "skip"
    }
   },
   "outputs": [],
   "source": [
    "def make_pipelines(regressor=None):\n",
    "    \"Create a single pipeline that processing the data and then fits the regressor.\" \n",
    "        \n",
    "    numeric_features = ['1stFlrSF','2ndFlrSF','3SsnPorch','BedroomAbvGr','BsmtFinSF1','BsmtFullBath','BsmtHalfBath','BsmtUnfSF',\n",
    "                       'EnclosedPorch','Fireplaces','FullBath','GarageArea','GarageCars','GarageYrBlt','GrLivArea','HalfBath',\n",
    "                       'KitchenAbvGr','LotArea','LotFrontage','LowQualFinSF','MasVnrArea','MiscVal','MoSold','MSSubClass','OpenPorchSF',\n",
    "                       'OverallCond','OverallQual','PoolArea','ScreenPorch','YrSold', 'YearRemodAdd', 'YearBuilt', 'WoodDeckSF', \n",
    "                        'TotRmsAbvGrd', 'TotalBsmtSF']\n",
    "    numeric_transformer = Pipeline(steps=[('imputer', impute.SimpleImputer(strategy='median'))])\n",
    "    \n",
    "    categorical_features = ['BldgType','BsmtCond','BsmtExposure','BsmtFinType1','BsmtQual','CentralAir','Condition1','Condition2',\n",
    "                           'Electrical','ExterCond','Exterior1st','Exterior2nd','ExterQual','Foundation','Functional','GarageType',\n",
    "                           'Heating','HeatingQC','HouseStyle','KitchenQual','LandContour','LandSlope','LotConfig','LotShape',\n",
    "                           'MasVnrType','MiscFeature','MSZoning','Neighborhood','PavedDrive','RoofMatl','RoofStyle','SaleCondition',\n",
    "                           'SaleType','Street','Utilities']\n",
    "    categorical_transformer = Pipeline(steps=[('imputer', impute.SimpleImputer(strategy='constant', fill_value='most_frequent')),\n",
    "                                              ('onehot', preprocessing.OneHotEncoder(handle_unknown='ignore'))])\n",
    "    \n",
    "    \n",
    "    preprocessor = compose.ColumnTransformer(transformers=[('num', numeric_transformer, numeric_features),\n",
    "                                                           ('cat', categorical_transformer, categorical_features)])\n",
    "    \n",
    "    pipe_rf = Pipeline([('preprocessor', preprocessor),\n",
    "                        ('clf', RandomForestRegressor(n_estimators=30, min_samples_leaf=10, random_state=42))])\n",
    "    pipe_lasso = Pipeline([('preprocessor', preprocessor),\n",
    "                           ('clf', linear_model.Lasso(alpha=0.1))])\n",
    "    pipe_gbr = Pipeline([('preprocessor', preprocessor),\n",
    "                           ('clf', GradientBoostingRegressor())])\n",
    "    \n",
    "    pipeline = [pipe_rf, pipe_lasso, pipe_gbr]\n",
    "\n",
    "    \n",
    "    return pipeline"
   ]
  },
  {
   "cell_type": "code",
   "execution_count": 4,
   "metadata": {
    "slideshow": {
     "slide_type": "skip"
    }
   },
   "outputs": [],
   "source": [
    "pipelines = make_pipelines()"
   ]
  },
  {
   "cell_type": "code",
   "execution_count": 5,
   "metadata": {
    "slideshow": {
     "slide_type": "skip"
    }
   },
   "outputs": [],
   "source": [
    "def make_pipelines2(regressor=None):\n",
    "    \"Create a single pipeline that processing the data and then fits the regressor.\" \n",
    "        \n",
    "    numeric_features = ['1stFlrSF','2ndFlrSF','YrSold',  'YearBuilt']\n",
    "    numeric_transformer = Pipeline(steps=[('imputer', impute.SimpleImputer(strategy='median'))])\n",
    "    \n",
    "    categorical_features = ['HouseStyle','Neighborhood','Street']\n",
    "    categorical_transformer = Pipeline(steps=[('imputer', impute.SimpleImputer(strategy='constant', fill_value='most_frequent')),\n",
    "                                              ('onehot', preprocessing.OneHotEncoder(handle_unknown='ignore'))])\n",
    "    \n",
    "    \n",
    "    preprocessor = compose.ColumnTransformer(transformers=[('num', numeric_transformer, numeric_features),\n",
    "                                                           ('cat', categorical_transformer, categorical_features)])\n",
    "    \n",
    "    pipe_rf = Pipeline([('preprocessor', preprocessor),\n",
    "                        ('clf', RandomForestRegressor(n_estimators=30, min_samples_leaf=10, random_state=42))])\n",
    "    pipe_lasso = Pipeline([('preprocessor', preprocessor),\n",
    "                           ('clf', linear_model.Lasso(alpha=0.1))])\n",
    "    pipe_gbr = Pipeline([('preprocessor', preprocessor),\n",
    "                           ('clf', GradientBoostingRegressor())])\n",
    "    \n",
    "    pipeline = [pipe_rf, pipe_lasso, pipe_gbr]\n",
    "\n",
    "    \n",
    "    return pipeline"
   ]
  },
  {
   "cell_type": "code",
   "execution_count": 6,
   "metadata": {
    "slideshow": {
     "slide_type": "skip"
    }
   },
   "outputs": [],
   "source": [
    "pipelines2 = make_pipelines2()"
   ]
  },
  {
   "cell_type": "code",
   "execution_count": 7,
   "metadata": {
    "slideshow": {
     "slide_type": "skip"
    }
   },
   "outputs": [],
   "source": [
    "def make_pipelines3(regressor=None):\n",
    "    \"Create a single pipeline that processing the data and then fits the regressor.\" \n",
    "        \n",
    "    numeric_features = ['OverallQual', 'GrLivArea', 'TotalBsmtSF', 'BsmtFinSF1', 'GarageCars', '1stFlrSF', \n",
    "                        'YearBuilt', '2ndFlrSF', 'YearRemodAdd', 'LotArea', 'GarageYrBlt', 'LotFrontage', \n",
    "                        'OverallCond', 'GarageArea', 'OpenPorchSF', 'Fireplaces', 'FullBath', 'BsmtUnfSF',\n",
    "                        'YrSold', 'BsmtFullBath', 'MSSubClass', 'WoodDeckSF', 'KitchenAbvGr', 'HalfBath', \n",
    "                        '3SsnPorch', 'EnclosedPorch', 'LowQualFinSF', 'MasVnrArea', 'MiscVal']\n",
    "    numeric_transformer = Pipeline(steps=[('imputer', impute.SimpleImputer(strategy='median'))])\n",
    "    \n",
    "    categorical_features = ['BldgType','BsmtCond','BsmtExposure','BsmtFinType1','BsmtQual','CentralAir','Condition1','Condition2',\n",
    "                           'Electrical','ExterCond','Exterior1st','Exterior2nd','ExterQual','Foundation','Functional','GarageType',\n",
    "                           'Heating','HeatingQC','HouseStyle','KitchenQual','LandContour','LandSlope','LotConfig','LotShape',\n",
    "                           'MasVnrType','MiscFeature','MSZoning','Neighborhood','PavedDrive','RoofMatl','RoofStyle','SaleCondition',\n",
    "                           'SaleType','Street','Utilities']\n",
    "    categorical_transformer = Pipeline(steps=[('imputer', impute.SimpleImputer(strategy='constant', fill_value='most_frequent')),\n",
    "                                              ('onehot', preprocessing.OneHotEncoder(handle_unknown='ignore'))])\n",
    "    \n",
    "    \n",
    "    preprocessor = compose.ColumnTransformer(transformers=[('num', numeric_transformer, numeric_features),\n",
    "                                                           ('cat', categorical_transformer, categorical_features)])\n",
    "    \n",
    "    pipe_rf = Pipeline([('preprocessor', preprocessor),\n",
    "                        ('clf', RandomForestRegressor(n_estimators=30, min_samples_leaf=10, random_state=42))])\n",
    "    pipe_lasso = Pipeline([('preprocessor', preprocessor),\n",
    "                           ('clf', linear_model.Lasso(alpha=0.1))])\n",
    "    pipe_gbr = Pipeline([('preprocessor', preprocessor),\n",
    "                           ('clf', GradientBoostingRegressor())])\n",
    "    \n",
    "    pipeline = [pipe_rf, pipe_lasso, pipe_gbr]\n",
    "\n",
    "    \n",
    "    return pipeline"
   ]
  },
  {
   "cell_type": "code",
   "execution_count": 8,
   "metadata": {
    "slideshow": {
     "slide_type": "skip"
    }
   },
   "outputs": [],
   "source": [
    "pipelines3 = make_pipelines3()"
   ]
  },
  {
   "cell_type": "code",
   "execution_count": null,
   "metadata": {
    "slideshow": {
     "slide_type": "skip"
    }
   },
   "outputs": [],
   "source": []
  },
  {
   "cell_type": "code",
   "execution_count": null,
   "metadata": {
    "slideshow": {
     "slide_type": "skip"
    }
   },
   "outputs": [],
   "source": []
  },
  {
   "cell_type": "markdown",
   "metadata": {
    "slideshow": {
     "slide_type": "skip"
    }
   },
   "source": [
    "Evaluation Metric\n",
    "----"
   ]
  },
  {
   "cell_type": "code",
   "execution_count": 9,
   "metadata": {
    "slideshow": {
     "slide_type": "skip"
    }
   },
   "outputs": [],
   "source": [
    "from sklearn.metrics import median_absolute_error\n",
    "from sklearn.model_selection import train_test_split\n",
    "from sklearn.metrics import mean_squared_error\n",
    "from sklearn.metrics import r2_score\n",
    "#from sklearn.metrics import m\n",
    "from sklearn.metrics import mean_squared_error\n",
    "from math import sqrt\n",
    "import numpy as np"
   ]
  },
  {
   "cell_type": "code",
   "execution_count": 10,
   "metadata": {
    "slideshow": {
     "slide_type": "skip"
    }
   },
   "outputs": [],
   "source": [
    "def MAPE(predict,target):\n",
    "    return (abs((target - predict) / target).mean()) * 100"
   ]
  },
  {
   "cell_type": "code",
   "execution_count": 11,
   "metadata": {
    "slideshow": {
     "slide_type": "skip"
    }
   },
   "outputs": [],
   "source": [
    "def mae(pipelines, X, y):\n",
    "    d_test = dict()\n",
    "    d_train = dict()\n",
    "    X_train, X_test, y_train, y_test = train_test_split(X, y, test_size=0.33, random_state=42)\n",
    "    for pipe in pipelines:\n",
    "        pipe.fit(X_train, y_train)\n",
    "        y_pred = pipe.predict(X_test)\n",
    "        name = pipe.steps[-1][1].__class__.__name__.split('.')[-1]\n",
    "        mae = round(median_absolute_error(y_test, y_pred), 2)\n",
    "        mse = round(mean_squared_error(y_test, y_pred), 2)\n",
    "        r2 = round(r2_score(y_test, y_pred), 2)\n",
    "        mape = MAPE(y_test, y_pred)\n",
    "        rmse = sqrt(mean_squared_error(y_test, y_pred))\n",
    "        d_test[name] = [mae, mse, r2, mape, rmse]\n",
    "        \n",
    "    for pipe in pipelines:\n",
    "        pipe.fit(X, y)\n",
    "        y_pred = pipe.predict(X)\n",
    "        name = pipe.steps[-1][1].__class__.__name__.split('.')[-1]\n",
    "        mae_train = round(median_absolute_error(y, y_pred), 2)\n",
    "        mse_train = round(mean_squared_error(y, y_pred), 2)\n",
    "        r2_train = round(r2_score(y, y_pred), 2)\n",
    "        mape_train = MAPE(y, y_pred)\n",
    "        rmse_train = sqrt(mean_squared_error(y, y_pred))\n",
    "        d_train[name] = [mae_train, mse_train, r2_train, mape_train, rmse_train]\n",
    "    return d_test,d_train"
   ]
  },
  {
   "cell_type": "code",
   "execution_count": 12,
   "metadata": {
    "slideshow": {
     "slide_type": "skip"
    }
   },
   "outputs": [],
   "source": [
    "d_test, d_train = mae(pipelines, X, np.log(y+1))"
   ]
  },
  {
   "cell_type": "code",
   "execution_count": 13,
   "metadata": {
    "slideshow": {
     "slide_type": "skip"
    }
   },
   "outputs": [],
   "source": [
    "df_test = pd.DataFrame(d_test.values(), d_test.keys())\n",
    "df_train = pd.DataFrame(d_train.values(), d_train.keys())"
   ]
  },
  {
   "cell_type": "code",
   "execution_count": 14,
   "metadata": {
    "slideshow": {
     "slide_type": "skip"
    }
   },
   "outputs": [],
   "source": [
    "df_test.columns = ['MAE', 'MSE', 'R^2', 'MAPE', 'rmsle']\n",
    "df_train.columns = ['MAE_train', 'MSE_train', 'R^2_train', 'MAPE_train', 'rmsle']"
   ]
  },
  {
   "cell_type": "code",
   "execution_count": 15,
   "metadata": {
    "slideshow": {
     "slide_type": "skip"
    }
   },
   "outputs": [
    {
     "data": {
      "text/html": [
       "<div>\n",
       "<style scoped>\n",
       "    .dataframe tbody tr th:only-of-type {\n",
       "        vertical-align: middle;\n",
       "    }\n",
       "\n",
       "    .dataframe tbody tr th {\n",
       "        vertical-align: top;\n",
       "    }\n",
       "\n",
       "    .dataframe thead th {\n",
       "        text-align: right;\n",
       "    }\n",
       "</style>\n",
       "<table border=\"1\" class=\"dataframe\">\n",
       "  <thead>\n",
       "    <tr style=\"text-align: right;\">\n",
       "      <th></th>\n",
       "      <th>MAE</th>\n",
       "      <th>MSE</th>\n",
       "      <th>R^2</th>\n",
       "      <th>MAPE</th>\n",
       "      <th>rmsle</th>\n",
       "    </tr>\n",
       "  </thead>\n",
       "  <tbody>\n",
       "    <tr>\n",
       "      <td>RandomForestRegressor</td>\n",
       "      <td>0.07</td>\n",
       "      <td>0.02</td>\n",
       "      <td>0.86</td>\n",
       "      <td>0.869544</td>\n",
       "      <td>0.155604</td>\n",
       "    </tr>\n",
       "    <tr>\n",
       "      <td>Lasso</td>\n",
       "      <td>0.08</td>\n",
       "      <td>0.03</td>\n",
       "      <td>0.81</td>\n",
       "      <td>1.001921</td>\n",
       "      <td>0.179815</td>\n",
       "    </tr>\n",
       "    <tr>\n",
       "      <td>GradientBoostingRegressor</td>\n",
       "      <td>0.06</td>\n",
       "      <td>0.02</td>\n",
       "      <td>0.89</td>\n",
       "      <td>0.758071</td>\n",
       "      <td>0.139942</td>\n",
       "    </tr>\n",
       "  </tbody>\n",
       "</table>\n",
       "</div>"
      ],
      "text/plain": [
       "                            MAE   MSE   R^2      MAPE     rmsle\n",
       "RandomForestRegressor      0.07  0.02  0.86  0.869544  0.155604\n",
       "Lasso                      0.08  0.03  0.81  1.001921  0.179815\n",
       "GradientBoostingRegressor  0.06  0.02  0.89  0.758071  0.139942"
      ]
     },
     "execution_count": 15,
     "metadata": {},
     "output_type": "execute_result"
    }
   ],
   "source": [
    "df_test"
   ]
  },
  {
   "cell_type": "code",
   "execution_count": 16,
   "metadata": {
    "slideshow": {
     "slide_type": "skip"
    }
   },
   "outputs": [
    {
     "data": {
      "text/html": [
       "<div>\n",
       "<style scoped>\n",
       "    .dataframe tbody tr th:only-of-type {\n",
       "        vertical-align: middle;\n",
       "    }\n",
       "\n",
       "    .dataframe tbody tr th {\n",
       "        vertical-align: top;\n",
       "    }\n",
       "\n",
       "    .dataframe thead th {\n",
       "        text-align: right;\n",
       "    }\n",
       "</style>\n",
       "<table border=\"1\" class=\"dataframe\">\n",
       "  <thead>\n",
       "    <tr style=\"text-align: right;\">\n",
       "      <th></th>\n",
       "      <th>MAE_train</th>\n",
       "      <th>MSE_train</th>\n",
       "      <th>R^2_train</th>\n",
       "      <th>MAPE_train</th>\n",
       "      <th>rmsle</th>\n",
       "    </tr>\n",
       "  </thead>\n",
       "  <tbody>\n",
       "    <tr>\n",
       "      <td>RandomForestRegressor</td>\n",
       "      <td>0.05</td>\n",
       "      <td>0.01</td>\n",
       "      <td>0.91</td>\n",
       "      <td>0.653651</td>\n",
       "      <td>0.119048</td>\n",
       "    </tr>\n",
       "    <tr>\n",
       "      <td>Lasso</td>\n",
       "      <td>0.07</td>\n",
       "      <td>0.03</td>\n",
       "      <td>0.80</td>\n",
       "      <td>0.953432</td>\n",
       "      <td>0.179829</td>\n",
       "    </tr>\n",
       "    <tr>\n",
       "      <td>GradientBoostingRegressor</td>\n",
       "      <td>0.05</td>\n",
       "      <td>0.01</td>\n",
       "      <td>0.96</td>\n",
       "      <td>0.496677</td>\n",
       "      <td>0.080476</td>\n",
       "    </tr>\n",
       "  </tbody>\n",
       "</table>\n",
       "</div>"
      ],
      "text/plain": [
       "                           MAE_train  MSE_train  R^2_train  MAPE_train  \\\n",
       "RandomForestRegressor           0.05       0.01       0.91    0.653651   \n",
       "Lasso                           0.07       0.03       0.80    0.953432   \n",
       "GradientBoostingRegressor       0.05       0.01       0.96    0.496677   \n",
       "\n",
       "                              rmsle  \n",
       "RandomForestRegressor      0.119048  \n",
       "Lasso                      0.179829  \n",
       "GradientBoostingRegressor  0.080476  "
      ]
     },
     "execution_count": 16,
     "metadata": {},
     "output_type": "execute_result"
    }
   ],
   "source": [
    "df_train"
   ]
  },
  {
   "cell_type": "code",
   "execution_count": 17,
   "metadata": {
    "slideshow": {
     "slide_type": "skip"
    }
   },
   "outputs": [],
   "source": [
    "d_test2, d_train2 = mae(pipelines2, X, np.log(y+1))\n",
    "df_test2 = pd.DataFrame(d_test2.values(), d_test2.keys())\n",
    "df_train2 = pd.DataFrame(d_train2.values(), d_train2.keys())\n",
    "df_test2.columns = ['MAE', 'MSE', 'R^2', 'MAPE', 'rmsle']\n",
    "df_train2.columns = ['MAE_train', 'MSE_train', 'R^2_train', 'MAPE_train', 'rmsle']\n",
    "\n",
    "\n"
   ]
  },
  {
   "cell_type": "code",
   "execution_count": 18,
   "metadata": {
    "slideshow": {
     "slide_type": "skip"
    }
   },
   "outputs": [
    {
     "data": {
      "text/html": [
       "<div>\n",
       "<style scoped>\n",
       "    .dataframe tbody tr th:only-of-type {\n",
       "        vertical-align: middle;\n",
       "    }\n",
       "\n",
       "    .dataframe tbody tr th {\n",
       "        vertical-align: top;\n",
       "    }\n",
       "\n",
       "    .dataframe thead th {\n",
       "        text-align: right;\n",
       "    }\n",
       "</style>\n",
       "<table border=\"1\" class=\"dataframe\">\n",
       "  <thead>\n",
       "    <tr style=\"text-align: right;\">\n",
       "      <th></th>\n",
       "      <th>MAE</th>\n",
       "      <th>MSE</th>\n",
       "      <th>R^2</th>\n",
       "      <th>MAPE</th>\n",
       "      <th>rmsle</th>\n",
       "    </tr>\n",
       "  </thead>\n",
       "  <tbody>\n",
       "    <tr>\n",
       "      <td>RandomForestRegressor</td>\n",
       "      <td>0.09</td>\n",
       "      <td>0.04</td>\n",
       "      <td>0.79</td>\n",
       "      <td>1.084460</td>\n",
       "      <td>0.189584</td>\n",
       "    </tr>\n",
       "    <tr>\n",
       "      <td>Lasso</td>\n",
       "      <td>0.10</td>\n",
       "      <td>0.04</td>\n",
       "      <td>0.77</td>\n",
       "      <td>1.157128</td>\n",
       "      <td>0.197627</td>\n",
       "    </tr>\n",
       "    <tr>\n",
       "      <td>GradientBoostingRegressor</td>\n",
       "      <td>0.09</td>\n",
       "      <td>0.03</td>\n",
       "      <td>0.82</td>\n",
       "      <td>1.042674</td>\n",
       "      <td>0.176126</td>\n",
       "    </tr>\n",
       "  </tbody>\n",
       "</table>\n",
       "</div>"
      ],
      "text/plain": [
       "                            MAE   MSE   R^2      MAPE     rmsle\n",
       "RandomForestRegressor      0.09  0.04  0.79  1.084460  0.189584\n",
       "Lasso                      0.10  0.04  0.77  1.157128  0.197627\n",
       "GradientBoostingRegressor  0.09  0.03  0.82  1.042674  0.176126"
      ]
     },
     "execution_count": 18,
     "metadata": {},
     "output_type": "execute_result"
    }
   ],
   "source": [
    "df_test2"
   ]
  },
  {
   "cell_type": "code",
   "execution_count": 19,
   "metadata": {
    "slideshow": {
     "slide_type": "skip"
    }
   },
   "outputs": [
    {
     "data": {
      "text/html": [
       "<div>\n",
       "<style scoped>\n",
       "    .dataframe tbody tr th:only-of-type {\n",
       "        vertical-align: middle;\n",
       "    }\n",
       "\n",
       "    .dataframe tbody tr th {\n",
       "        vertical-align: top;\n",
       "    }\n",
       "\n",
       "    .dataframe thead th {\n",
       "        text-align: right;\n",
       "    }\n",
       "</style>\n",
       "<table border=\"1\" class=\"dataframe\">\n",
       "  <thead>\n",
       "    <tr style=\"text-align: right;\">\n",
       "      <th></th>\n",
       "      <th>MAE_train</th>\n",
       "      <th>MSE_train</th>\n",
       "      <th>R^2_train</th>\n",
       "      <th>MAPE_train</th>\n",
       "      <th>rmsle</th>\n",
       "    </tr>\n",
       "  </thead>\n",
       "  <tbody>\n",
       "    <tr>\n",
       "      <td>RandomForestRegressor</td>\n",
       "      <td>0.08</td>\n",
       "      <td>0.03</td>\n",
       "      <td>0.83</td>\n",
       "      <td>0.937456</td>\n",
       "      <td>0.162844</td>\n",
       "    </tr>\n",
       "    <tr>\n",
       "      <td>Lasso</td>\n",
       "      <td>0.10</td>\n",
       "      <td>0.04</td>\n",
       "      <td>0.72</td>\n",
       "      <td>1.181609</td>\n",
       "      <td>0.210453</td>\n",
       "    </tr>\n",
       "    <tr>\n",
       "      <td>GradientBoostingRegressor</td>\n",
       "      <td>0.08</td>\n",
       "      <td>0.02</td>\n",
       "      <td>0.88</td>\n",
       "      <td>0.847233</td>\n",
       "      <td>0.137015</td>\n",
       "    </tr>\n",
       "  </tbody>\n",
       "</table>\n",
       "</div>"
      ],
      "text/plain": [
       "                           MAE_train  MSE_train  R^2_train  MAPE_train  \\\n",
       "RandomForestRegressor           0.08       0.03       0.83    0.937456   \n",
       "Lasso                           0.10       0.04       0.72    1.181609   \n",
       "GradientBoostingRegressor       0.08       0.02       0.88    0.847233   \n",
       "\n",
       "                              rmsle  \n",
       "RandomForestRegressor      0.162844  \n",
       "Lasso                      0.210453  \n",
       "GradientBoostingRegressor  0.137015  "
      ]
     },
     "execution_count": 19,
     "metadata": {},
     "output_type": "execute_result"
    }
   ],
   "source": [
    "df_train2"
   ]
  },
  {
   "cell_type": "code",
   "execution_count": 20,
   "metadata": {},
   "outputs": [],
   "source": [
    "d_test3, d_train3 = mae(pipelines3, X, np.log(y+1))\n",
    "df_test3 = pd.DataFrame(d_test3.values(), d_test3.keys())\n",
    "df_train3 = pd.DataFrame(d_train3.values(), d_train3.keys())\n",
    "df_test3.columns = ['MAE', 'MSE', 'R^2', 'MAPE', 'rmsle']\n",
    "df_train3.columns = ['MAE_train', 'MSE_train', 'R^2_train', 'MAPE_train', 'rmsle']\n",
    "\n"
   ]
  },
  {
   "cell_type": "code",
   "execution_count": 21,
   "metadata": {},
   "outputs": [
    {
     "data": {
      "text/html": [
       "<div>\n",
       "<style scoped>\n",
       "    .dataframe tbody tr th:only-of-type {\n",
       "        vertical-align: middle;\n",
       "    }\n",
       "\n",
       "    .dataframe tbody tr th {\n",
       "        vertical-align: top;\n",
       "    }\n",
       "\n",
       "    .dataframe thead th {\n",
       "        text-align: right;\n",
       "    }\n",
       "</style>\n",
       "<table border=\"1\" class=\"dataframe\">\n",
       "  <thead>\n",
       "    <tr style=\"text-align: right;\">\n",
       "      <th></th>\n",
       "      <th>MAE</th>\n",
       "      <th>MSE</th>\n",
       "      <th>R^2</th>\n",
       "      <th>MAPE</th>\n",
       "      <th>rmsle</th>\n",
       "    </tr>\n",
       "  </thead>\n",
       "  <tbody>\n",
       "    <tr>\n",
       "      <td>RandomForestRegressor</td>\n",
       "      <td>0.07</td>\n",
       "      <td>0.02</td>\n",
       "      <td>0.86</td>\n",
       "      <td>0.868982</td>\n",
       "      <td>0.155697</td>\n",
       "    </tr>\n",
       "    <tr>\n",
       "      <td>Lasso</td>\n",
       "      <td>0.07</td>\n",
       "      <td>0.03</td>\n",
       "      <td>0.82</td>\n",
       "      <td>0.993663</td>\n",
       "      <td>0.176429</td>\n",
       "    </tr>\n",
       "    <tr>\n",
       "      <td>GradientBoostingRegressor</td>\n",
       "      <td>0.06</td>\n",
       "      <td>0.02</td>\n",
       "      <td>0.89</td>\n",
       "      <td>0.759449</td>\n",
       "      <td>0.139123</td>\n",
       "    </tr>\n",
       "  </tbody>\n",
       "</table>\n",
       "</div>"
      ],
      "text/plain": [
       "                            MAE   MSE   R^2      MAPE     rmsle\n",
       "RandomForestRegressor      0.07  0.02  0.86  0.868982  0.155697\n",
       "Lasso                      0.07  0.03  0.82  0.993663  0.176429\n",
       "GradientBoostingRegressor  0.06  0.02  0.89  0.759449  0.139123"
      ]
     },
     "execution_count": 21,
     "metadata": {},
     "output_type": "execute_result"
    }
   ],
   "source": [
    "df_test3"
   ]
  },
  {
   "cell_type": "code",
   "execution_count": 22,
   "metadata": {},
   "outputs": [
    {
     "data": {
      "text/html": [
       "<div>\n",
       "<style scoped>\n",
       "    .dataframe tbody tr th:only-of-type {\n",
       "        vertical-align: middle;\n",
       "    }\n",
       "\n",
       "    .dataframe tbody tr th {\n",
       "        vertical-align: top;\n",
       "    }\n",
       "\n",
       "    .dataframe thead th {\n",
       "        text-align: right;\n",
       "    }\n",
       "</style>\n",
       "<table border=\"1\" class=\"dataframe\">\n",
       "  <thead>\n",
       "    <tr style=\"text-align: right;\">\n",
       "      <th></th>\n",
       "      <th>MAE_train</th>\n",
       "      <th>MSE_train</th>\n",
       "      <th>R^2_train</th>\n",
       "      <th>MAPE_train</th>\n",
       "      <th>rmsle</th>\n",
       "    </tr>\n",
       "  </thead>\n",
       "  <tbody>\n",
       "    <tr>\n",
       "      <td>RandomForestRegressor</td>\n",
       "      <td>0.05</td>\n",
       "      <td>0.01</td>\n",
       "      <td>0.91</td>\n",
       "      <td>0.653271</td>\n",
       "      <td>0.119128</td>\n",
       "    </tr>\n",
       "    <tr>\n",
       "      <td>Lasso</td>\n",
       "      <td>0.08</td>\n",
       "      <td>0.03</td>\n",
       "      <td>0.79</td>\n",
       "      <td>0.962337</td>\n",
       "      <td>0.183318</td>\n",
       "    </tr>\n",
       "    <tr>\n",
       "      <td>GradientBoostingRegressor</td>\n",
       "      <td>0.05</td>\n",
       "      <td>0.01</td>\n",
       "      <td>0.96</td>\n",
       "      <td>0.502607</td>\n",
       "      <td>0.081584</td>\n",
       "    </tr>\n",
       "  </tbody>\n",
       "</table>\n",
       "</div>"
      ],
      "text/plain": [
       "                           MAE_train  MSE_train  R^2_train  MAPE_train  \\\n",
       "RandomForestRegressor           0.05       0.01       0.91    0.653271   \n",
       "Lasso                           0.08       0.03       0.79    0.962337   \n",
       "GradientBoostingRegressor       0.05       0.01       0.96    0.502607   \n",
       "\n",
       "                              rmsle  \n",
       "RandomForestRegressor      0.119128  \n",
       "Lasso                      0.183318  \n",
       "GradientBoostingRegressor  0.081584  "
      ]
     },
     "execution_count": 22,
     "metadata": {},
     "output_type": "execute_result"
    }
   ],
   "source": [
    "df_train3"
   ]
  },
  {
   "cell_type": "code",
   "execution_count": 23,
   "metadata": {},
   "outputs": [],
   "source": [
    "from IPython.display import display, HTML"
   ]
  },
  {
   "cell_type": "code",
   "execution_count": 31,
   "metadata": {},
   "outputs": [
    {
     "name": "stdout",
     "output_type": "stream",
     "text": [
      "Reduced Model Training:\n"
     ]
    },
    {
     "data": {
      "text/html": [
       "<div>\n",
       "<style scoped>\n",
       "    .dataframe tbody tr th:only-of-type {\n",
       "        vertical-align: middle;\n",
       "    }\n",
       "\n",
       "    .dataframe tbody tr th {\n",
       "        vertical-align: top;\n",
       "    }\n",
       "\n",
       "    .dataframe thead th {\n",
       "        text-align: right;\n",
       "    }\n",
       "</style>\n",
       "<table border=\"1\" class=\"dataframe\">\n",
       "  <thead>\n",
       "    <tr style=\"text-align: right;\">\n",
       "      <th></th>\n",
       "      <th>MAE_train</th>\n",
       "      <th>MSE_train</th>\n",
       "      <th>R^2_train</th>\n",
       "      <th>MAPE_train</th>\n",
       "      <th>rmsle</th>\n",
       "    </tr>\n",
       "  </thead>\n",
       "  <tbody>\n",
       "    <tr>\n",
       "      <td>RandomForestRegressor</td>\n",
       "      <td>0.05</td>\n",
       "      <td>0.01</td>\n",
       "      <td>0.91</td>\n",
       "      <td>0.653651</td>\n",
       "      <td>0.119048</td>\n",
       "    </tr>\n",
       "    <tr>\n",
       "      <td>Lasso</td>\n",
       "      <td>0.07</td>\n",
       "      <td>0.03</td>\n",
       "      <td>0.80</td>\n",
       "      <td>0.953432</td>\n",
       "      <td>0.179829</td>\n",
       "    </tr>\n",
       "    <tr>\n",
       "      <td>GradientBoostingRegressor</td>\n",
       "      <td>0.05</td>\n",
       "      <td>0.01</td>\n",
       "      <td>0.96</td>\n",
       "      <td>0.496677</td>\n",
       "      <td>0.080476</td>\n",
       "    </tr>\n",
       "  </tbody>\n",
       "</table>\n",
       "</div>"
      ],
      "text/plain": [
       "                           MAE_train  MSE_train  R^2_train  MAPE_train  \\\n",
       "RandomForestRegressor           0.05       0.01       0.91    0.653651   \n",
       "Lasso                           0.07       0.03       0.80    0.953432   \n",
       "GradientBoostingRegressor       0.05       0.01       0.96    0.496677   \n",
       "\n",
       "                              rmsle  \n",
       "RandomForestRegressor      0.119048  \n",
       "Lasso                      0.179829  \n",
       "GradientBoostingRegressor  0.080476  "
      ]
     },
     "metadata": {},
     "output_type": "display_data"
    },
    {
     "name": "stdout",
     "output_type": "stream",
     "text": [
      "\n",
      "Reduced Model Testing:\n"
     ]
    },
    {
     "data": {
      "text/html": [
       "<div>\n",
       "<style scoped>\n",
       "    .dataframe tbody tr th:only-of-type {\n",
       "        vertical-align: middle;\n",
       "    }\n",
       "\n",
       "    .dataframe tbody tr th {\n",
       "        vertical-align: top;\n",
       "    }\n",
       "\n",
       "    .dataframe thead th {\n",
       "        text-align: right;\n",
       "    }\n",
       "</style>\n",
       "<table border=\"1\" class=\"dataframe\">\n",
       "  <thead>\n",
       "    <tr style=\"text-align: right;\">\n",
       "      <th></th>\n",
       "      <th>MAE</th>\n",
       "      <th>MSE</th>\n",
       "      <th>R^2</th>\n",
       "      <th>MAPE</th>\n",
       "      <th>rmsle</th>\n",
       "    </tr>\n",
       "  </thead>\n",
       "  <tbody>\n",
       "    <tr>\n",
       "      <td>RandomForestRegressor</td>\n",
       "      <td>0.07</td>\n",
       "      <td>0.02</td>\n",
       "      <td>0.86</td>\n",
       "      <td>0.869544</td>\n",
       "      <td>0.155604</td>\n",
       "    </tr>\n",
       "    <tr>\n",
       "      <td>Lasso</td>\n",
       "      <td>0.08</td>\n",
       "      <td>0.03</td>\n",
       "      <td>0.81</td>\n",
       "      <td>1.001921</td>\n",
       "      <td>0.179815</td>\n",
       "    </tr>\n",
       "    <tr>\n",
       "      <td>GradientBoostingRegressor</td>\n",
       "      <td>0.06</td>\n",
       "      <td>0.02</td>\n",
       "      <td>0.89</td>\n",
       "      <td>0.758071</td>\n",
       "      <td>0.139942</td>\n",
       "    </tr>\n",
       "  </tbody>\n",
       "</table>\n",
       "</div>"
      ],
      "text/plain": [
       "                            MAE   MSE   R^2      MAPE     rmsle\n",
       "RandomForestRegressor      0.07  0.02  0.86  0.869544  0.155604\n",
       "Lasso                      0.08  0.03  0.81  1.001921  0.179815\n",
       "GradientBoostingRegressor  0.06  0.02  0.89  0.758071  0.139942"
      ]
     },
     "metadata": {},
     "output_type": "display_data"
    }
   ],
   "source": [
    "print ( \"Reduced Model Training:\")\n",
    "display(df_train)\n",
    "print ( \"\\nReduced Model Testing:\")\n",
    "display(df_test)"
   ]
  },
  {
   "cell_type": "code",
   "execution_count": null,
   "metadata": {},
   "outputs": [],
   "source": []
  },
  {
   "cell_type": "code",
   "execution_count": null,
   "metadata": {},
   "outputs": [],
   "source": []
  },
  {
   "cell_type": "code",
   "execution_count": null,
   "metadata": {},
   "outputs": [],
   "source": []
  },
  {
   "cell_type": "markdown",
   "metadata": {},
   "source": [
    "Results\n",
    "---------\n",
    "\n",
    "\n"
   ]
  },
  {
   "cell_type": "code",
   "execution_count": null,
   "metadata": {},
   "outputs": [],
   "source": []
  },
  {
   "cell_type": "code",
   "execution_count": null,
   "metadata": {},
   "outputs": [],
   "source": []
  }
 ],
 "metadata": {
  "celltoolbar": "Slideshow",
  "kernelspec": {
   "display_name": "Python 3",
   "language": "python",
   "name": "python3"
  },
  "language_info": {
   "codemirror_mode": {
    "name": "ipython",
    "version": 3
   },
   "file_extension": ".py",
   "mimetype": "text/x-python",
   "name": "python",
   "nbconvert_exporter": "python",
   "pygments_lexer": "ipython3",
   "version": "3.7.3"
  },
  "toc": {
   "base_numbering": 1,
   "nav_menu": {},
   "number_sections": false,
   "sideBar": false,
   "skip_h1_title": false,
   "title_cell": "Table of Contents",
   "title_sidebar": "Contents",
   "toc_cell": true,
   "toc_position": {},
   "toc_section_display": true,
   "toc_window_display": false
  }
 },
 "nbformat": 4,
 "nbformat_minor": 2
}
